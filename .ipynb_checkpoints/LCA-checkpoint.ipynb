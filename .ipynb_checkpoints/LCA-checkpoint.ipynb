{
 "cells": [
  {
   "cell_type": "markdown",
   "metadata": {},
   "source": [
    "# Land Capacity Analysis"
   ]
  },
  {
   "cell_type": "markdown",
   "metadata": {},
   "source": [
    "## Eastsound Example\n",
    "\n",
    "The analysis uses parcel data from March 3, 2017. So we'll grab that data and visualize it on a map centered on Eastsound."
   ]
  },
  {
   "cell_type": "code",
   "execution_count": 58,
   "metadata": {
    "collapsed": true
   },
   "outputs": [],
   "source": [
    "from IPython.display import display\n",
    "import arcgis\n",
    "from arcgis.gis import GIS\n",
    "import os"
   ]
  },
  {
   "cell_type": "code",
   "execution_count": 59,
   "metadata": {},
   "outputs": [
    {
     "name": "stdout",
     "output_type": "stream",
     "text": [
      "Enter admin password for ArcGIS Online········\n"
     ]
    }
   ],
   "source": [
    "import getpass\n",
    "password = getpass.getpass(\"Enter admin password for ArcGIS Online\")\n",
    "gis = GIS(\"https://sjcgis.maps.arcgis.com\", \"npeihl\", password)"
   ]
  },
  {
   "cell_type": "code",
   "execution_count": 60,
   "metadata": {
    "collapsed": true
   },
   "outputs": [],
   "source": [
    "map = gis.map(\"Eastsound, WA\", zoomlevel=15)\n",
    "map.basemap = 'gray'"
   ]
  },
  {
   "cell_type": "code",
   "execution_count": 61,
   "metadata": {},
   "outputs": [
    {
     "data": {
      "text/html": [
       "<div class=\"item_container\" style=\"height: auto; overflow: hidden; border: 1px solid #cfcfcf; border-radius: 2px; background: #f6fafa; line-height: 1.21429em; padding: 10px;\">\n",
       "                    <div class=\"item_left\" style=\"width: 210px; float: left;\">\n",
       "                       <a href='https://sjcgis.maps.arcgis.com/home/item.html?id=38470ffdeb7f454882dfcccd5e6c47f2' target='_blank'>\n",
       "                        <img src='data:image/png;base64,R0lGODlhBQAFAID/AMDAwAAAACH5BAEAAAAALAAAAAAFAAUAQAIEhI+pWAA7' width='200' height='133' class=\"itemThumbnail\">\n",
       "                       </a>\n",
       "                    </div>\n",
       "\n",
       "                    <div class=\"item_right\"     style=\"float: none; width: auto; overflow: hidden;\">\n",
       "                        <a href='https://sjcgis.maps.arcgis.com/home/item.html?id=38470ffdeb7f454882dfcccd5e6c47f2' target='_blank'><b>Parcels for Land Capacity Analysis (March 2017)</b>\n",
       "                        </a>\n",
       "                        <br/>Parcels to be used in the 2018 Comprehensive Plan Land Capacity Analysis<img src='https://sjcgis.maps.arcgis.com/home/js/jsapi/esri/css/images/item_type_icons/featureshosted16.png' style=\"vertical-align:middle;\">Feature Layer Collection by npeihl\n",
       "                        <br/>Last Modified: June 29, 2017\n",
       "                        <br/>0 comments, 2 views\n",
       "                    </div>\n",
       "                </div>\n",
       "                "
      ],
      "text/plain": [
       "<Item title:\"Parcels for Land Capacity Analysis (March 2017)\" type:Feature Service owner:npeihl>"
      ]
     },
     "execution_count": 61,
     "metadata": {},
     "output_type": "execute_result"
    }
   ],
   "source": [
    "parcels = gis.content.search(\"Parcels for Land Capacity Analysis\", item_type=\"feature service\")[0]\n",
    "parcels"
   ]
  },
  {
   "cell_type": "code",
   "execution_count": 62,
   "metadata": {},
   "outputs": [
    {
     "data": {
      "application/vnd.jupyter.widget-view+json": {
       "model_id": "174736b454ae4aef9db4bcf5166957b8"
      }
     },
     "metadata": {},
     "output_type": "display_data"
    }
   ],
   "source": [
    "map.add_layer(parcels)\n",
    "map"
   ]
  },
  {
   "cell_type": "markdown",
   "metadata": {},
   "source": [
    "## Assemble Gross Developable Land Inventory\n",
    "\n",
    "The purpose of the assessment of land supply is to identify all lands within the County that are considered vacant, partially-used, or redevelopable. These lands comprise the Gross Developable Land Inventory. "
   ]
  },
  {
   "cell_type": "markdown",
   "metadata": {},
   "source": [
    "### Data Preparation\n",
    "\n",
    "The parcels do not specify whether or not they are in the Eastsound UGA. Nor do they specify the land use density or land use designations. Addtionally, some of the parcels have split zones. We could try determining these using GIS analysis tools such as spatial join or intersect. But the parcel and density/land use dataset boundaries are not always coincident so we may end up with sliver polygons and less than ideal analyses results."
   ]
  },
  {
   "cell_type": "markdown",
   "metadata": {},
   "source": [
    "### Avoiding sliver polygons\n",
    "\n",
    "1. Create a copy of the parcels layer. \n",
    "2. Create fields for jursidiction, density, and land use designation.\n",
    "3. Manually edit the dual zone parcels by splitting them at the density boundaries.\n",
    "4. Fill in the jurisdiction, density, and land use designation fields either by hand or using a spatial join. \n",
    "\n",
    "The Urban Growth Areas, Town Boundary, Density zoning, and land use designations can all be downloaded from the [Open Data website](http://data.sjcgis.org)"
   ]
  },
  {
   "cell_type": "markdown",
   "metadata": {},
   "source": [
    "*Note* Be careful with the spatial join tool when using \"Have their center in\" as this parameter will not guarantee the centroid will occur within the polygon. See the example below where the centroid for the polygon is located outside of the polygon boundaries."
   ]
  },
  {
   "cell_type": "code",
   "execution_count": 63,
   "metadata": {},
   "outputs": [
    {
     "data": {
      "application/vnd.jupyter.widget-view+json": {
       "model_id": "e5ef7eb8e26447c697710817fdfefa32"
      }
     },
     "metadata": {},
     "output_type": "display_data"
    }
   ],
   "source": [
    "centroidMap = gis.map([48.635653,-122.881994], zoomlevel=16)\n",
    "parcel = parcels.layers[0]\n",
    "centroidMap.add_layer({\"type\": \"FeatureLayer\",\n",
    "                     \"url\": parcel.url,\n",
    "                     \"definition_expression\": \"PIN = '260141005000'\",\n",
    "                     \"opacity\": 0.7\n",
    "                    })\n",
    "centroidMap.draw({\"x\": -122.881994, \"y\": 48.635653, \"spatialReference\": { \"wkid\": 4326}})\n",
    "centroidMap"
   ]
  },
  {
   "cell_type": "markdown",
   "metadata": {},
   "source": [
    "### Eastsound LCA Land Use Layer\n",
    "\n",
    "The GIS team has performed the above data preparation steps for Eastsound UGA and the resulting data is accessible below."
   ]
  },
  {
   "cell_type": "code",
   "execution_count": 64,
   "metadata": {
    "scrolled": true
   },
   "outputs": [
    {
     "data": {
      "text/html": [
       "<div class=\"item_container\" style=\"height: auto; overflow: hidden; border: 1px solid #cfcfcf; border-radius: 2px; background: #f6fafa; line-height: 1.21429em; padding: 10px;\">\n",
       "                    <div class=\"item_left\" style=\"width: 210px; float: left;\">\n",
       "                       <a href='https://sjcgis.maps.arcgis.com/home/item.html?id=300729ba93be45818fcdbaabb7548e6e' target='_blank'>\n",
       "                        <img src='data:image/png;base64,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' width='200' height='133' class=\"itemThumbnail\">\n",
       "                       </a>\n",
       "                    </div>\n",
       "\n",
       "                    <div class=\"item_right\"     style=\"float: none; width: auto; overflow: hidden;\">\n",
       "                        <a href='https://sjcgis.maps.arcgis.com/home/item.html?id=300729ba93be45818fcdbaabb7548e6e' target='_blank'><b>LCA_Parcels_EastsoundUGA</b>\n",
       "                        </a>\n",
       "                        <br/>Land Capacity Analysis Parcels in Eastsound<img src='https://sjcgis.maps.arcgis.com/home/js/jsapi/esri/css/images/item_type_icons/featureshosted16.png' style=\"vertical-align:middle;\">Feature Layer Collection by npeihl\n",
       "                        <br/>Last Modified: June 30, 2017\n",
       "                        <br/>0 comments, 1 views\n",
       "                    </div>\n",
       "                </div>\n",
       "                "
      ],
      "text/plain": [
       "<Item title:\"LCA_Parcels_EastsoundUGA\" type:Feature Service owner:npeihl>"
      ]
     },
     "execution_count": 64,
     "metadata": {},
     "output_type": "execute_result"
    }
   ],
   "source": [
    "eastsoundUga = gis.content.search('LCA Parcels Eastsound')[0]\n",
    "eastsoundUga"
   ]
  },
  {
   "cell_type": "markdown",
   "metadata": {},
   "source": [
    "### Define density units per acre and minimum lot size\n",
    "\n",
    "The list below defines the units per acre and minimum lot size (if applicable) for each density type"
   ]
  },
  {
   "cell_type": "code",
   "execution_count": 65,
   "metadata": {
    "collapsed": true
   },
   "outputs": [],
   "source": [
    "density = {\n",
    "   \"1\": {\n",
    "      \"UnitsAcre\": 1,\n",
    "      \"MinLotSize\": 0\n",
    "   },\n",
    "   \"2\": {\n",
    "      \"UnitsAcre\": 0.5,\n",
    "      \"MinLotSize\": 0\n",
    "   },\n",
    "   \"5\": {\n",
    "      \"UnitsAcre\": 0.2,\n",
    "      \"MinLotSize\": 0\n",
    "   },\n",
    "   \"10\": {\n",
    "      \"UnitsAcre\": 0.1,\n",
    "      \"MinLotSize\": 0\n",
    "   },\n",
    "   \"15\": {\n",
    "      \"UnitsAcre\": 0.0667,\n",
    "      \"MinLotSize\": 0\n",
    "   },\n",
    "   \"20\": {\n",
    "      \"UnitsAcre\": 0.05,\n",
    "      \"MinLotSize\": 0\n",
    "   },\n",
    "   \"40\": {\n",
    "      \"UnitsAcre\": 0.025,\n",
    "      \"MinLotSize\": 0\n",
    "   },\n",
    "   \"0.01\": {\n",
    "      \"UnitsAcre\": 100,\n",
    "      \"MinLotSize\": 0\n",
    "   },\n",
    "   \"0.25\": {\n",
    "      \"UnitsAcre\": 4,\n",
    "      \"MinLotSize\": 0\n",
    "   },\n",
    "   \"0.5\": {\n",
    "      \"UnitsAcre\": 2,\n",
    "      \"MinLotSize\": 0\n",
    "   },\n",
    "   \"0.65\": {\n",
    "      \"UnitsAcre\": 1.5,\n",
    "      \"MinLotSize\": 0\n",
    "   },\n",
    "   \"2 BDD\": {\n",
    "      \"UnitsAcre\": 0.5,\n",
    "      \"MinLotSize\": 0\n",
    "   },\n",
    "   \"2*\": {\n",
    "      \"UnitsAcre\": 0.5,\n",
    "      \"MinLotSize\": 0\n",
    "   },\n",
    "   \"CCC\": {\n",
    "      \"UnitsAcre\": 2,\n",
    "      \"MinLotSize\": 0\n",
    "   },\n",
    "   \"EAD\": {\n",
    "      \"UnitsAcre\": 0,\n",
    "      \"MinLotSize\": 0\n",
    "   },\n",
    "   \"EN\": {\n",
    "      \"UnitsAcre\": 0,\n",
    "      \"MinLotSize\": 0\n",
    "   },\n",
    "   \"ER\": {\n",
    "      \"UnitsAcre\": 0.2,\n",
    "      \"MinLotSize\": 0\n",
    "   },\n",
    "   \"ER1\": {\n",
    "      \"UnitsAcre\": 1,\n",
    "      \"MinLotSize\": 0\n",
    "   },\n",
    "   \"ER1P\": {\n",
    "      \"UnitsAcre\": 1,\n",
    "      \"MinLotSize\": 0\n",
    "   },\n",
    "   \"ER2\": {\n",
    "      \"UnitsAcre\": 2,\n",
    "      \"MinLotSize\": 0\n",
    "   },\n",
    "   \"ER2P\": {\n",
    "      \"UnitsAcre\": 2,\n",
    "      \"MinLotSize\": 0\n",
    "   },\n",
    "   \"ER412\": {\n",
    "      \"UnitsAcre\": 12,\n",
    "      \"MinLotSize\": 0\n",
    "   },\n",
    "   \"ER4P\": {\n",
    "      \"UnitsAcre\": 4,\n",
    "      \"MinLotSize\": 0\n",
    "   },\n",
    "   \"ERR\": {\n",
    "      \"UnitsAcre\": 0.2,\n",
    "      \"MinLotSize\": 0\n",
    "   },\n",
    "   \"ERR2\": {\n",
    "      \"UnitsAcre\": 0.5,\n",
    "      \"MinLotSize\": 0\n",
    "   },\n",
    "   \"M\": {\n",
    "      \"UnitsAcre\": 8,\n",
    "      \"MinLotSize\": 0\n",
    "   },\n",
    "   \"N\": {\n",
    "      \"UnitsAcre\": 0,\n",
    "      \"MinLotSize\": 0\n",
    "   },\n",
    "   \"N SPD\": {\n",
    "      \"UnitsAcre\": 0,\n",
    "      \"MinLotSize\": 0\n",
    "   },\n",
    "   \"P\": {\n",
    "      \"UnitsAcre\": 0,\n",
    "      \"MinLotSize\": 0\n",
    "   },\n",
    "   \"P SPD\": {\n",
    "      \"UnitsAcre\": 0,\n",
    "      \"MinLotSize\": 0\n",
    "   },\n",
    "   \"RMP\": {\n",
    "      \"UnitsAcre\": 0.5,\n",
    "      \"MinLotSize\": 0\n",
    "   },\n",
    "   \"SLI\": {\n",
    "      \"UnitsAcre\": 0,\n",
    "      \"MinLotSize\": 0\n",
    "   },\n",
    "   \"SP\": {\n",
    "      \"UnitsAcre\": 0,\n",
    "      \"MinLotSize\": 0\n",
    "   },\n",
    "   \"VC\": {\n",
    "      \"UnitsAcre\": 40,\n",
    "      \"MinLotSize\": 0\n",
    "   },\n",
    "   \"VR\": {\n",
    "      \"UnitsAcre\": 12,\n",
    "      \"MinLotSize\": 0\n",
    "   },\n",
    "   \"W\": {\n",
    "      \"UnitsAcre\": 0,\n",
    "      \"MinLotSize\": 0\n",
    "   }\n",
    "}"
   ]
  },
  {
   "cell_type": "code",
   "execution_count": 66,
   "metadata": {
    "collapsed": true
   },
   "outputs": [],
   "source": [
    "residentialLU = ['AG', 'C', 'ER', 'ER1', 'ER1P', 'ER2', 'ER2P', 'ER412', 'ER4P', 'ERR', 'ERRP2', 'FO', 'HR', 'OLGA', 'OVR2', 'RFF', 'RR', 'RR+', 'VR']\n",
    "indComInsLU = ['RG', 'RI', 'RC', 'VC', 'VCL','HC', 'HI','IC', 'SLI','SP','CCC' ,'M','EAD','OHC','OVC', 'OVT']\n",
    "mixedLU = ['VC', 'VCL']\n",
    "publicLU = ['EN', 'N']"
   ]
  },
  {
   "cell_type": "markdown",
   "metadata": {},
   "source": [
    "### Fully Developed Residential Lands\n",
    "(No further development potential)\n",
    "\n",
    "Assessors codes:\n",
    "* 1100-1199 (except 1127, 1180) SFRS;\n",
    "* 1200-1223 Multifamily;\n",
    "* 1300-1302 Multifamily;\n",
    "* 1500 Manufactured housing;\n",
    "* 1900-1920: Vacation/seasonal homes;\n",
    "* 8100-8328: Agriculture; \n",
    "* 9200: Non-commercial forest; \n",
    "* 9420-9423: Open space with conservation easement\n",
    "\n"
   ]
  },
  {
   "cell_type": "code",
   "execution_count": 67,
   "metadata": {
    "collapsed": true,
    "scrolled": true
   },
   "outputs": [],
   "source": [
    "from itertools import chain\n",
    "resFullDevCodes = chain(range(1100, 1200), \n",
    "                        range(1200,1224),\n",
    "                        range(1300, 1303),\n",
    "                        range(1500, 1501),\n",
    "                        range(1900, 1921),\n",
    "                        range(8100, 8329),\n",
    "                        range(9200, 9201),\n",
    "                        range(9420, 9424))\n",
    "\n"
   ]
  },
  {
   "cell_type": "markdown",
   "metadata": {},
   "source": [
    "**Definition**\n",
    "* Assessed improvement value > $10,000\n",
    "* Ratio of allowed density to parcel size > 0.5\n"
   ]
  },
  {
   "cell_type": "code",
   "execution_count": 68,
   "metadata": {},
   "outputs": [
    {
     "data": {
      "text/plain": [
       "False"
      ]
     },
     "metadata": {},
     "output_type": "display_data"
    },
    {
     "data": {
      "text/plain": [
       "False"
      ]
     },
     "metadata": {},
     "output_type": "display_data"
    },
    {
     "data": {
      "text/plain": [
       "False"
      ]
     },
     "metadata": {},
     "output_type": "display_data"
    },
    {
     "data": {
      "text/plain": [
       "True"
      ]
     },
     "metadata": {},
     "output_type": "display_data"
    }
   ],
   "source": [
    "def fullyDevelopedRes (imp_val, lu, density, parcel_size,**kwargs):\n",
    "    if lu in residentialLU and imp_val > 10000 and density/parcel_size > 0.5:\n",
    "        return True\n",
    "    else:\n",
    "        return False\n",
    "        \n",
    "display(fullyDevelopedRes(10000, 'ER', 1.75, 2)) # returns False\n",
    "display(fullyDevelopedRes(20000, 'EN', 1.75, 2)) # returns False\n",
    "display(fullyDevelopedRes(20000, 'ER', 1, 2)) # returns False\n",
    "display(fullyDevelopedRes(20000, 'ER', 1.75, 2)) # returns True"
   ]
  },
  {
   "cell_type": "markdown",
   "metadata": {},
   "source": [
    "### Fully Developed Industrial, Commercial, and Institutional Lands\n",
    "(No further development potential)\n",
    "\n",
    "Assessors codes:\n",
    "* 1400-1488 Accommodations\n",
    "* 1600 Hotels/motels\n",
    "* 1700 Institutional lodging\n",
    "* 2100 Food and kindred products\n",
    "* 2200 Textile Mill Products\n",
    "* 2400-2403: Lumber and wood products\n",
    "* 2500: Furniture/fixtures\n",
    "* 2600: Paper and Allied products \n",
    "* 2700: Printing and publishing \n",
    "* 2800: Chemicals \n",
    "* 2900: Petroleum refining and related \n",
    "* 3100: Rubber and misc. plastic products \n",
    "* 3200: Stone, clay and glass \n",
    "* 3300: Primary metal industries\n",
    "* 3400: Fabricated metal products \n",
    "* 3500: Prof. & Scientific Instruments \n",
    "* 3900: Misc. Manufacturing \n",
    "* 4100: Railroad & Transit\n",
    "* 4200: Motor vehicle transportation \n",
    "* 4300: Aircraft transportation \n",
    "* 4400: Marine transportation \n",
    "* 4600: Automobile parking \n",
    "* 4700 Communications\n",
    "* 4900: Other transportation \n",
    "* 5000: Non-residential condominiums \n",
    "* 5100: Wholesale trade \n",
    "* 5200: Building & hardware & farm\n",
    "* 5300-5320: General merchandise\n",
    "* 5400-5403: Retail food \n",
    "* 5500-5503: Retail- auto, marine, aircraft \n",
    "* 5600: Apparel \n",
    "* 5700-5708: Retail – furniture & home furnishings\n",
    "* 5800: Retail- Eating & drinking\n",
    "* 5900: Other retail \n",
    "* 6100: Finance, insurance & real estate \n",
    "* 6200-6220: Personal services \n",
    "* 6300: Business services \n",
    "* 6400-6402: Repair services \n",
    "* 6500-6503: Professional services \n",
    "* 6600 Contract construction services \n",
    "* 6900-6902 Miscellaneous services \n",
    "* 7100: Cultural activities\n",
    "* 7200-7202: Public assembly \n",
    "* 7300: Amusements\n",
    "* 7400-7420: Recreational activities \n",
    "* 7500: Resorts and group camps \n",
    "* 7900: Other recreational \n",
    "* 8100-8328: Agriculture \n",
    "* 8400: Fishing and related services \n",
    "* 8500: Mining activities\n",
    "* 8600: Marijuana grow operation \n",
    "* 8900: Other resource production\n"
   ]
  },
  {
   "cell_type": "markdown",
   "metadata": {},
   "source": [
    "** Definition **\n",
    "* Ratio of building value to land value is >1.0\n",
    "* Ratio of allowed density/minimum parcel size to parcel size is > 0.5\n",
    "* **TODO** Identify existing development, such as gas stations, quarries or uses that preclude significant additional development on the site, as fully developed when the ratio of improvement value to land value is less than 1. If identified as fully developed, the parcel will be subtracted from the inventory.\n"
   ]
  },
  {
   "cell_type": "code",
   "execution_count": 69,
   "metadata": {},
   "outputs": [
    {
     "data": {
      "text/plain": [
       "False"
      ]
     },
     "metadata": {},
     "output_type": "display_data"
    },
    {
     "data": {
      "text/plain": [
       "False"
      ]
     },
     "metadata": {},
     "output_type": "display_data"
    },
    {
     "data": {
      "text/plain": [
       "False"
      ]
     },
     "metadata": {},
     "output_type": "display_data"
    },
    {
     "data": {
      "text/plain": [
       "True"
      ]
     },
     "metadata": {},
     "output_type": "display_data"
    }
   ],
   "source": [
    "def fullyDevelopedIndComIns (imp_val, land_val, lu, density, parcel_size, min_size):\n",
    "    if lu in indComInsLU and imp_val/land_val > 1.0 and (density/min_size)/parcel_size > 0.5:\n",
    "        return True\n",
    "    else:\n",
    "        return False\n",
    "    \n",
    "display(fullyDevelopedIndComIns(1000000, 2000000, 'RC', 4.0, 1.0, 4.0)) # returns False\n",
    "display(fullyDevelopedIndComIns(5000000, 2000000, 'FO', 4.0, 1.0, 4.0)) # returns False\n",
    "display(fullyDevelopedIndComIns(5000000, 2000000, 'RC', 1.0, 1.0, 4.0)) # returns False\n",
    "display(fullyDevelopedIndComIns(5000000, 2000000, 'RC', 4.0, 1.0, 4.0)) # returns True"
   ]
  },
  {
   "cell_type": "markdown",
   "metadata": {},
   "source": [
    "### Mixed-Use: Fully Developed\n",
    "\n",
    "Assessor’s codes: see list for industrial, commercial and institutional above."
   ]
  },
  {
   "cell_type": "markdown",
   "metadata": {},
   "source": [
    "** Definition **\n",
    "* Ratio of building value to land value is >1.0\n",
    "* Ratio of allowed density/minimum parcel size to parcel size is > 0.5"
   ]
  },
  {
   "cell_type": "code",
   "execution_count": 70,
   "metadata": {},
   "outputs": [
    {
     "data": {
      "text/plain": [
       "False"
      ]
     },
     "metadata": {},
     "output_type": "display_data"
    },
    {
     "data": {
      "text/plain": [
       "False"
      ]
     },
     "metadata": {},
     "output_type": "display_data"
    },
    {
     "data": {
      "text/plain": [
       "False"
      ]
     },
     "metadata": {},
     "output_type": "display_data"
    },
    {
     "data": {
      "text/plain": [
       "True"
      ]
     },
     "metadata": {},
     "output_type": "display_data"
    }
   ],
   "source": [
    "def fullyDevelopedMixedUse (imp_val, land_val, lu, density, min_size, parcel_size):\n",
    "    if lu in mixedLU and imp_val/land_val > 1.0 and (density/min_size)/parcel_size > 0.5:\n",
    "        return True\n",
    "    else:\n",
    "        return False\n",
    "    \n",
    "display(fullyDevelopedMixedUse(1000000, 2000000, 'VC', 4.0, 1.0, 4.0)) # returns False\n",
    "display(fullyDevelopedMixedUse(5000000, 2000000, 'RFF', 4.0, 1.0, 4.0)) # returns False\n",
    "display(fullyDevelopedMixedUse(5000000, 2000000, 'VC', 1.0, 1.0, 4.0)) # returns False\n",
    "display(fullyDevelopedMixedUse(5000000, 2000000, 'VC', 4.0, 1.0, 4.0)) # returns True"
   ]
  },
  {
   "cell_type": "markdown",
   "metadata": {},
   "source": [
    "### Public, Utility, and Conservation Lands\n",
    "\n",
    "(No further development potential) \n",
    "Assessors Land Use Codes: \n",
    "* 7600: Parks\n",
    "* 4800-4820: Utilities\n",
    "* 6800-6820: Educational services\n",
    "* 6700-6793: Governmental services\n",
    "* 9240:  Open space with conservation easement\n",
    "* 9243: Open Space with Conservation Easement and Dock\n",
    "* 9520: Current Use Timber land with a Conservation Easement \n",
    "* 4820: Utility with Conservation Easement\n",
    "* 6820: Educational services with Conservation Easement\n",
    "* 7420: Recreational activities with Conservation Easement\n",
    "* 8120: Agriculture with Conservation Easement\n",
    "* 4500: Highway ROW\n",
    "* 7400-7420: Recreational activities \n",
    "* 8800-8820: Designated forest land\n"
   ]
  },
  {
   "cell_type": "code",
   "execution_count": 71,
   "metadata": {},
   "outputs": [
    {
     "data": {
      "text/plain": [
       "False"
      ]
     },
     "metadata": {},
     "output_type": "display_data"
    },
    {
     "data": {
      "text/plain": [
       "True"
      ]
     },
     "metadata": {},
     "output_type": "display_data"
    }
   ],
   "source": [
    "def publicLand(lu):\n",
    "    if lu in publicLU:\n",
    "        return True\n",
    "    else:\n",
    "        return False\n",
    "\n",
    "display(publicLand('RR')) # returns False\n",
    "display(publicLand('N')) # returns True"
   ]
  },
  {
   "cell_type": "markdown",
   "metadata": {},
   "source": [
    "### Residential: Vacant and subdividable\n",
    "\n",
    "Assessors Code: \n",
    "* 9100-9123: Undeveloped land > 5 acres\n",
    "* 1100-1199 (except 1127, 1180) SFRS;\n",
    "* 1200-1223 Multifamily;\n",
    "* 1300-1302 Multifamily;\n",
    "* 1500 Manufactured housing;\n",
    "* 1900-1920: Vacation/seasonal homes;\n",
    "* 8100-8328: Agriculture; \n",
    "* 9200: Non-commercial forest; \n",
    "* 9420-9423: Open space with conservation easement.\n"
   ]
  },
  {
   "cell_type": "markdown",
   "metadata": {},
   "source": [
    "** Definition **\n",
    "\n",
    "Residential land will be considered vacant and sub-dividable where the following criteria apply: \n",
    "* Assessed Improvement value < $10,000;\n",
    "* Parcels where the ratio of allowed density to parcel size is ≤ 0.5 may be subdividable;"
   ]
  },
  {
   "cell_type": "code",
   "execution_count": 72,
   "metadata": {
    "scrolled": true
   },
   "outputs": [
    {
     "data": {
      "text/plain": [
       "False"
      ]
     },
     "metadata": {},
     "output_type": "display_data"
    },
    {
     "data": {
      "text/plain": [
       "False"
      ]
     },
     "metadata": {},
     "output_type": "display_data"
    },
    {
     "data": {
      "text/plain": [
       "False"
      ]
     },
     "metadata": {},
     "output_type": "display_data"
    },
    {
     "data": {
      "text/plain": [
       "False"
      ]
     },
     "metadata": {},
     "output_type": "display_data"
    },
    {
     "data": {
      "text/plain": [
       "True"
      ]
     },
     "metadata": {},
     "output_type": "display_data"
    }
   ],
   "source": [
    "def vacantDividableRes(imp_val, lu, density, parcel_size):\n",
    "    if lu in residentialLU and imp_val < 10000 and density/parcel_size <= 0.5 and parcel_size > (2400/43560):\n",
    "        return True\n",
    "    else:\n",
    "        return False\n",
    "    \n",
    "display(vacantDividableRes(10000, 'ER', 1, 2)) # returns False\n",
    "display(vacantDividableRes(6000, 'VC', 1, 2)) # returns False\n",
    "display(vacantDividableRes(6000, 'ER', 2, 2)) # returns False\n",
    "display(vacantDividableRes(6000, 'ER', 0.025, 0.05)) # returns False\n",
    "display(vacantDividableRes(6000, 'ER', 1, 2)) # returns True"
   ]
  },
  {
   "cell_type": "markdown",
   "metadata": {},
   "source": [
    "### Residential Vacant\n",
    "\n",
    "Assessor Codes:\n",
    "* 1800-1895: Undeveloped Residential < 5 acres; \n",
    "* 1100-1199 (except 1127, 1180) SFRS;\n",
    "* 1200-1223 Multifamily;\n",
    "* 1300-1302 Multifamily;\n",
    "* 1500 Manufactured housing;\n",
    "* 1900-1920: Vacation/seasonal homes;\n",
    "* 8100-8328: Agriculture; \n",
    "* 9200: Non-commercial forest; \n",
    "* 9420-9423: Open space with conservation easement.\n"
   ]
  },
  {
   "cell_type": "markdown",
   "metadata": {},
   "source": [
    "** Definition **\n",
    "\n",
    "Residential land categorized as vacant but not sub-dividable will meet the following criteria: \n",
    "* Assessed improvement value < $10,000;\n",
    "* Parcels where the ratio of allowed density to parcel size is > 0.5 are not subdividable;\n",
    "* Parcels < 2,400 square feet to be excluded.\n"
   ]
  },
  {
   "cell_type": "code",
   "execution_count": 73,
   "metadata": {},
   "outputs": [
    {
     "data": {
      "text/plain": [
       "False"
      ]
     },
     "metadata": {},
     "output_type": "display_data"
    },
    {
     "data": {
      "text/plain": [
       "False"
      ]
     },
     "metadata": {},
     "output_type": "display_data"
    },
    {
     "data": {
      "text/plain": [
       "False"
      ]
     },
     "metadata": {},
     "output_type": "display_data"
    },
    {
     "data": {
      "text/plain": [
       "False"
      ]
     },
     "metadata": {},
     "output_type": "display_data"
    },
    {
     "data": {
      "text/plain": [
       "True"
      ]
     },
     "metadata": {},
     "output_type": "display_data"
    }
   ],
   "source": [
    "def vacantRes(imp_val, lu, density, parcel_size):\n",
    "    if lu in residentialLU and imp_val < 10000 and density/parcel_size > 0.5 and parcel_size > (2400/43560):\n",
    "        return True\n",
    "    else:\n",
    "        return False\n",
    "    \n",
    "display(vacantRes(12000, 'ER', 2, 2)) # returns False\n",
    "display(vacantRes(6000, 'VC', 2, 2)) # returns False\n",
    "display(vacantRes(6000, 'ER', 1, 2)) # returns False\n",
    "display(vacantRes(6000, 'ER', 0.025, 0.05)) # returns False\n",
    "display(vacantRes(6000, 'ER', 2, 2)) # returns True"
   ]
  },
  {
   "cell_type": "markdown",
   "metadata": {},
   "source": [
    "### Residential: Partially Used\n",
    "\n",
    "Assessor Codes:\n",
    "* 1100-1199 (except 1127, 1180) SFRS;\n",
    "* 1200-1223 Multifamily;\n",
    "* 1300-1302 Multifamily;\n",
    "* 1500 Manufactured housing;\n",
    "* 1900-1920: Vacation/seasonal homes;\n",
    "* 8100-8328: Agriculture; \n",
    "* 9200: Non-commercial forest; \n",
    "* 9420-9423: Open space with conservation easement\n"
   ]
  },
  {
   "cell_type": "markdown",
   "metadata": {},
   "source": [
    "** Definition **\n",
    "* Assessed building  value > $10,000\n",
    "* Parcels where the ratio of allowed density to parcel size is ≤ 0.5 may be sub-dividable and are considered partially used. \n"
   ]
  },
  {
   "cell_type": "code",
   "execution_count": 74,
   "metadata": {},
   "outputs": [
    {
     "data": {
      "text/plain": [
       "False"
      ]
     },
     "metadata": {},
     "output_type": "display_data"
    },
    {
     "data": {
      "text/plain": [
       "False"
      ]
     },
     "metadata": {},
     "output_type": "display_data"
    },
    {
     "data": {
      "text/plain": [
       "False"
      ]
     },
     "metadata": {},
     "output_type": "display_data"
    },
    {
     "data": {
      "text/plain": [
       "False"
      ]
     },
     "metadata": {},
     "output_type": "display_data"
    },
    {
     "data": {
      "text/plain": [
       "True"
      ]
     },
     "metadata": {},
     "output_type": "display_data"
    }
   ],
   "source": [
    "def partiallyUsedRes(imp_val, lu, density, parcel_size):\n",
    "    if lu in residentialLU and imp_val > 10000 and density/parcel_size <= 0.5 and parcel_size > (2400/43560):\n",
    "        return True\n",
    "    else:\n",
    "        return False\n",
    "    \n",
    "display(partiallyUsedRes(6000, 'ER', 1, 2)) # returns False\n",
    "display(partiallyUsedRes(150000, 'VC', 1, 2)) # returns False\n",
    "display(partiallyUsedRes(150000, 'ER', 2, 1)) # returns False\n",
    "display(partiallyUsedRes(150000, 'ER', 0.025, 0.05)) # returns False\n",
    "display(partiallyUsedRes(150000, 'ER', 1, 2)) # returns True"
   ]
  },
  {
   "cell_type": "markdown",
   "metadata": {},
   "source": [
    "### Vacant Industrial, Commercial, and Institutional Lands\n",
    "\n",
    "See Assessor’s Codes for fully developed industrial, commercial and institutional lands above. "
   ]
  },
  {
   "cell_type": "markdown",
   "metadata": {},
   "source": [
    "** Definition **\n",
    "\n",
    "Commercial or Industrial land will be considered vacant where: \n",
    "* Assessed improvement value < $10,000;\n",
    "* Parcels where the ratio of allowed density/minimum parcel size per designation is < 0.5 are considered subdividable. \n"
   ]
  },
  {
   "cell_type": "code",
   "execution_count": 75,
   "metadata": {},
   "outputs": [
    {
     "data": {
      "text/plain": [
       "False"
      ]
     },
     "metadata": {},
     "output_type": "display_data"
    },
    {
     "data": {
      "text/plain": [
       "False"
      ]
     },
     "metadata": {},
     "output_type": "display_data"
    },
    {
     "data": {
      "text/plain": [
       "False"
      ]
     },
     "metadata": {},
     "output_type": "display_data"
    },
    {
     "data": {
      "text/plain": [
       "True"
      ]
     },
     "metadata": {},
     "output_type": "display_data"
    }
   ],
   "source": [
    "def vacantIndComIns (imp_val, lu, density, parcel_size, min_size):\n",
    "    if lu in indComInsLU and imp_val < 10000 and (density/min_size)/parcel_size < 0.5:\n",
    "        return True\n",
    "    else:\n",
    "        return False\n",
    "    \n",
    "display(vacantIndComIns(50000, 'RC', 1.0, 1.0, 4.0)) # returns False\n",
    "display(vacantIndComIns(6000, 'FO', 1.0, 1.0, 4.0)) # returns False\n",
    "display(vacantIndComIns(6000, 'RC', 4.0, 1.0, 4.0)) # returns False\n",
    "display(vacantIndComIns(6000, 'RC', 1.0, 1.0, 4.0)) # returns True\n",
    "    "
   ]
  },
  {
   "cell_type": "markdown",
   "metadata": {},
   "source": [
    "### Vacant Mixed-Use\n",
    "\n",
    "See Assessors codes for fully developed industrial, commercial, and institutional lands above. "
   ]
  },
  {
   "cell_type": "markdown",
   "metadata": {},
   "source": [
    "** Definition **\n",
    "\n",
    "Mixed use land will be considered vacant where: \n",
    "* Assessed improvement value < $10,000;\n",
    "* Parcels where the ratio of allowed density/minimum parcel size per designation is < 0.5 are considered subdividable. \n",
    "* Sites that are partially developed may be split between the fully developed and undeveloped portions. (Not yet implemented)\n"
   ]
  },
  {
   "cell_type": "code",
   "execution_count": 76,
   "metadata": {},
   "outputs": [
    {
     "data": {
      "text/plain": [
       "False"
      ]
     },
     "metadata": {},
     "output_type": "display_data"
    },
    {
     "data": {
      "text/plain": [
       "False"
      ]
     },
     "metadata": {},
     "output_type": "display_data"
    },
    {
     "data": {
      "text/plain": [
       "False"
      ]
     },
     "metadata": {},
     "output_type": "display_data"
    },
    {
     "data": {
      "text/plain": [
       "True"
      ]
     },
     "metadata": {},
     "output_type": "display_data"
    }
   ],
   "source": [
    "def vacantMixedUse (imp_val, lu, density, parcel_size, min_size):\n",
    "    if lu in mixedLU and imp_val < 10000 and (density/min_size)/parcel_size < 0.5:\n",
    "        return True\n",
    "    else:\n",
    "        return False\n",
    "    \n",
    "display(vacantMixedUse(50000, 'VC', 1.0, 1.0, 4.0)) # returns False\n",
    "display(vacantMixedUse(6000, 'RFF', 1.0, 1.0, 4.0)) # returns False\n",
    "display(vacantMixedUse(6000, 'VC', 4.0, 1.0, 4.0)) # returns False\n",
    "display(vacantMixedUse(6000, 'VC', 1.0, 1.0, 4.0)) # returns True"
   ]
  },
  {
   "cell_type": "markdown",
   "metadata": {},
   "source": [
    "### Redevelopable Industrial, Commercial, and Institutional\n",
    "\n",
    "Assumption is that existing use may be demolished and new project developed. \n",
    "\n",
    "See Assessors codes for fully developed industrial, commercial, and institutional lands above. "
   ]
  },
  {
   "cell_type": "markdown",
   "metadata": {},
   "source": [
    "** Definition **\n",
    "\n",
    "Industrial, commercial and institutional sites that present one of the following conditions are considered re-developable:\n",
    "* Ratio of building value to land value is ≤ 1.0; \n",
    "* Occupied by a single family residence. (Assessor’s codes 1100-1199)\n",
    "\n",
    "Assumption is that existing use may be demolished and new project developed. \n"
   ]
  },
  {
   "cell_type": "code",
   "execution_count": 77,
   "metadata": {},
   "outputs": [
    {
     "data": {
      "text/plain": [
       "True"
      ]
     },
     "metadata": {},
     "output_type": "display_data"
    },
    {
     "data": {
      "text/plain": [
       "False"
      ]
     },
     "metadata": {},
     "output_type": "display_data"
    },
    {
     "data": {
      "text/plain": [
       "False"
      ]
     },
     "metadata": {},
     "output_type": "display_data"
    },
    {
     "data": {
      "text/plain": [
       "True"
      ]
     },
     "metadata": {},
     "output_type": "display_data"
    }
   ],
   "source": [
    "def redevIndComIns (imp_val, land_val, lu, assr_code):\n",
    "    if lu in indComInsLU and ((imp_val/land_val) <= 1.0 or assr_code in range(1100, 1200)):\n",
    "        return True\n",
    "    else:\n",
    "        return False    \n",
    "\n",
    "display(redevIndComIns(200000, 500000, 'RI', 1200)) # returns True\n",
    "display(redevIndComIns(600000, 500000, 'RI', 1200)) # returns False\n",
    "display(redevIndComIns(200000, 500000, 'RR', 1200)) # returns False\n",
    "display(redevIndComIns(600000, 500000, 'RI', 1100)) # returns True"
   ]
  },
  {
   "cell_type": "markdown",
   "metadata": {},
   "source": [
    "### Redevelopable Mixed-Use\n",
    "\n",
    "See Assessors codes for fully developed industrial, commercial, and institutional lands above. "
   ]
  },
  {
   "cell_type": "markdown",
   "metadata": {},
   "source": [
    "** Definition **\n",
    "\n",
    "Sites that present one of the following conditions are considered redevelopable: \n",
    "* Ratio of building value to land value is ≤1.0; \n",
    "* Occupied by a single family residence.\n",
    "* Partially developed mixed use parcels may be split between the fully developed and vacant lands\n"
   ]
  },
  {
   "cell_type": "code",
   "execution_count": 78,
   "metadata": {},
   "outputs": [
    {
     "data": {
      "text/plain": [
       "True"
      ]
     },
     "metadata": {},
     "output_type": "display_data"
    },
    {
     "data": {
      "text/plain": [
       "False"
      ]
     },
     "metadata": {},
     "output_type": "display_data"
    },
    {
     "data": {
      "text/plain": [
       "False"
      ]
     },
     "metadata": {},
     "output_type": "display_data"
    },
    {
     "data": {
      "text/plain": [
       "True"
      ]
     },
     "metadata": {},
     "output_type": "display_data"
    }
   ],
   "source": [
    "def redevMixedUse (imp_val, land_val, lu, assr_code):\n",
    "    if lu in mixedLU and (imp_val/land_val <= 1.0 or assr_code in range(1100, 1200)):\n",
    "        return True\n",
    "    else: \n",
    "        return False\n",
    "\n",
    "display(redevMixedUse(200000, 500000, 'VC', 1200)) # returns True\n",
    "display(redevMixedUse(600000, 500000, 'VC', 1200)) # returns False\n",
    "display(redevMixedUse(200000, 500000, 'RR', 1200)) # returns False\n",
    "display(redevMixedUse(600000, 500000, 'VC', 1100)) # returns True"
   ]
  },
  {
   "cell_type": "markdown",
   "metadata": {},
   "source": [
    "### Unit Tests\n",
    "\n",
    "Test the categorization functions using expected assertions."
   ]
  },
  {
   "cell_type": "code",
   "execution_count": 79,
   "metadata": {},
   "outputs": [
    {
     "data": {
      "text/plain": [
       "(0, 'CI')"
      ]
     },
     "metadata": {},
     "output_type": "display_data"
    }
   ],
   "source": [
    "-\n",
    "    \n",
    "kwargs = {\n",
    "    'imp_val': 200000,\n",
    "    'land_val': 40000,\n",
    "    'lu': 'RC',\n",
    "    'density': 4.0,\n",
    "    'parcel_size': 1.0,\n",
    "    'min_size': 4.0,\n",
    "    'assr_code': 5500\n",
    "}\n",
    "\n",
    "display(field_calc(**kwargs))"
   ]
  },
  {
   "cell_type": "code",
   "execution_count": 84,
   "metadata": {
    "scrolled": true
   },
   "outputs": [
    {
     "name": "stderr",
     "output_type": "stream",
     "text": [
      "s...........\n",
      "----------------------------------------------------------------------\n",
      "Ran 12 tests in 0.009s\n",
      "\n",
      "OK (skipped=1)\n"
     ]
    }
   ],
   "source": [
    "import unittest\n",
    "\n",
    "class TestResidentialCategories(unittest.TestCase):\n",
    "    def test_fullyDeveloped(self):\n",
    "        self.assertFalse(fullyDevelopedRes(10000, 'ER', 1.75, 2)) # returns False\n",
    "        self.assertFalse(fullyDevelopedRes(20000, 'EN', 1.75, 2)) # returns False\n",
    "        self.assertFalse(fullyDevelopedRes(20000, 'ER', 1, 2)) # returns False\n",
    "        self.assertTrue(fullyDevelopedRes(20000, 'ER', 1.75, 2)) # returns True\n",
    "    \n",
    "    def test_partiallyUsed(self):\n",
    "        self.assertFalse(partiallyUsedRes(6000, 'ER', 1, 2)) # returns False\n",
    "        self.assertFalse(partiallyUsedRes(150000, 'VC', 1, 2)) # returns False\n",
    "        self.assertFalse(partiallyUsedRes(150000, 'ER', 2, 1)) # returns False\n",
    "        self.assertFalse(partiallyUsedRes(150000, 'ER', 0.025, 0.05)) # returns False\n",
    "        self.assertTrue(partiallyUsedRes(150000, 'ER', 1, 2)) # returns True\n",
    "        \n",
    "    def test_vacant(self):\n",
    "        self.assertFalse(vacantRes(12000, 'ER', 2, 2)) # returns False\n",
    "        self.assertFalse(vacantRes(6000, 'VC', 2, 2)) # returns False\n",
    "        self.assertFalse(vacantRes(6000, 'ER', 1, 2)) # returns False\n",
    "        self.assertFalse(vacantRes(6000, 'ER', 0.025, 0.05)) # returns False\n",
    "        self.assertTrue(vacantRes(6000, 'ER', 2, 2)) # returns True\n",
    "        \n",
    "    def test_vacant_dividable(self):\n",
    "        self.assertFalse(vacantDividableRes(10000, 'ER', 1, 2)) # returns False\n",
    "        self.assertFalse(vacantDividableRes(6000, 'VC', 1, 2)) # returns False\n",
    "        self.assertFalse(vacantDividableRes(6000, 'ER', 2, 2)) # returns False\n",
    "        self.assertFalse(vacantDividableRes(6000, 'ER', 0.025, 0.05)) # returns False\n",
    "        self.assertTrue(vacantDividableRes(6000, 'ER', 1, 2)) # returns True\n",
    "\n",
    "class TestIndustrialCommercialInstitutionalCategories(unittest.TestCase):\n",
    "    def test_fullyDeveloped(self):\n",
    "        self.assertFalse(fullyDevelopedIndComIns(1000000, 2000000, 'RC', 4.0, 1.0, 4.0)) # returns False\n",
    "        self.assertFalse(fullyDevelopedIndComIns(5000000, 2000000, 'FO', 4.0, 1.0, 4.0)) # returns False\n",
    "        self.assertFalse(fullyDevelopedIndComIns(5000000, 2000000, 'RC', 1.0, 1.0, 4.0)) # returns False\n",
    "        self.assertTrue(fullyDevelopedIndComIns(5000000, 2000000, 'RC', 4.0, 1.0, 4.0)) # returns True\n",
    "    \n",
    "    def test_redevelopable(self):\n",
    "        self.assertTrue(redevIndComIns(200000, 500000, 'RI', 1200)) # returns True\n",
    "        self.assertFalse(redevIndComIns(600000, 500000, 'RI', 1200)) # returns False\n",
    "        self.assertFalse(redevIndComIns(200000, 500000, 'RR', 1200)) # returns False\n",
    "        self.assertTrue(redevIndComIns(600000, 500000, 'RI', 1100)) # returns True\n",
    "        \n",
    "    def test_vacant(self):\n",
    "        self.assertFalse(vacantIndComIns(50000, 'RC', 1.0, 1.0, 4.0)) # returns False\n",
    "        self.assertFalse(vacantIndComIns(6000, 'FO', 1.0, 1.0, 4.0)) # returns False\n",
    "        self.assertFalse(vacantIndComIns(6000, 'RC', 4.0, 1.0, 4.0)) # returns False\n",
    "        self.assertTrue(vacantIndComIns(6000, 'RC', 1.0, 1.0, 4.0)) # returns True\n",
    "        \n",
    "class TestMixedUseCategories(unittest.TestCase):\n",
    "    def test_fullyDeveloped(self):\n",
    "        self.assertFalse(fullyDevelopedMixedUse(1000000, 2000000, 'VC', 4.0, 1.0, 4.0)) # returns False\n",
    "        self.assertFalse(fullyDevelopedMixedUse(5000000, 2000000, 'RFF', 4.0, 1.0, 4.0)) # returns False\n",
    "        self.assertFalse(fullyDevelopedMixedUse(5000000, 2000000, 'VC', 1.0, 1.0, 4.0)) # returns False\n",
    "        self.assertTrue(fullyDevelopedMixedUse(5000000, 2000000, 'VC', 4.0, 1.0, 4.0)) # returns True\n",
    "        \n",
    "    def test_redevelopable(self):\n",
    "        self.assertTrue(redevMixedUse(200000, 500000, 'VC', 1200)) # returns True\n",
    "        self.assertFalse(redevMixedUse(600000, 500000, 'VC', 1200)) # returns False\n",
    "        self.assertFalse(redevMixedUse(200000, 500000, 'RR', 1200)) # returns False\n",
    "        self.assertTrue(redevMixedUse(600000, 500000, 'VC', 1100)) # returns True\n",
    "    \n",
    "    def test_vacant(self):\n",
    "        self.assertFalse(vacantMixedUse(50000, 'VC', 1.0, 1.0, 4.0)) # returns False\n",
    "        self.assertFalse(vacantMixedUse(6000, 'RFF', 1.0, 1.0, 4.0)) # returns False\n",
    "        self.assertFalse(vacantMixedUse(6000, 'VC', 4.0, 1.0, 4.0)) # returns False\n",
    "        self.assertTrue(vacantMixedUse(6000, 'VC', 1.0, 1.0, 4.0)) # returns True\n",
    "\n",
    "class TestPublicLandCategories(unittest.TestCase):\n",
    "    def test_publicLand(self):\n",
    "        self.assertFalse(publicLand('RR')) # returns False\n",
    "        self.assertTrue(publicLand('N')) # returns True\n",
    "        \n",
    "class TestCategorizer(unittest.TestCase):\n",
    "    defKwargs = {\n",
    "        'lu': '',\n",
    "        'imp_val': 0,\n",
    "        'density': 0,\n",
    "        'land_val': 0,\n",
    "        'min_size': 0,\n",
    "        'assr_code': '',\n",
    "        'parcel_size': 0,\n",
    "\n",
    "        \n",
    "    }\n",
    "    @unittest.skip('TODO')\n",
    "    def test_residential(self):\n",
    "        self.fail()\n",
    "        \n",
    "if __name__ == '__main__':\n",
    "    unittest.main(argv=['ignored'], exit=False)"
   ]
  },
  {
   "cell_type": "markdown",
   "metadata": {},
   "source": [
    "## Calculate the Land Definition\n",
    "\n",
    "We can use the functions defined above to update the fields in the feature class with the correct categorization."
   ]
  },
  {
   "cell_type": "code",
   "execution_count": 117,
   "metadata": {},
   "outputs": [
    {
     "data": {
      "text/html": [
       "<div class=\"item_container\" style=\"height: auto; overflow: hidden; border: 1px solid #cfcfcf; border-radius: 2px; background: #f6fafa; line-height: 1.21429em; padding: 10px;\">\n",
       "                    <div class=\"item_left\" style=\"width: 210px; float: left;\">\n",
       "                       <a href='https://sjcgis.maps.arcgis.com/home/item.html?id=300729ba93be45818fcdbaabb7548e6e' target='_blank'>\n",
       "                        <img src='data:image/png;base64,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' width='200' height='133' class=\"itemThumbnail\">\n",
       "                       </a>\n",
       "                    </div>\n",
       "\n",
       "                    <div class=\"item_right\"     style=\"float: none; width: auto; overflow: hidden;\">\n",
       "                        <a href='https://sjcgis.maps.arcgis.com/home/item.html?id=300729ba93be45818fcdbaabb7548e6e' target='_blank'><b>LCA_Parcels_EastsoundUGA</b>\n",
       "                        </a>\n",
       "                        <br/>Land Capacity Analysis Parcels in Eastsound<img src='https://sjcgis.maps.arcgis.com/home/js/jsapi/esri/css/images/item_type_icons/featureshosted16.png' style=\"vertical-align:middle;\">Feature Layer Collection by npeihl\n",
       "                        <br/>Last Modified: June 30, 2017\n",
       "                        <br/>0 comments, 0 views\n",
       "                    </div>\n",
       "                </div>\n",
       "                "
      ],
      "text/plain": [
       "<Item title:\"LCA_Parcels_EastsoundUGA\" type:Feature Service owner:npeihl>"
      ]
     },
     "execution_count": 117,
     "metadata": {},
     "output_type": "execute_result"
    }
   ],
   "source": [
    "# Get the dataset\n",
    "ds = gis.content.search('LCA Parcels Eastsound')[0]\n",
    "ds"
   ]
  }
 ],
 "metadata": {
  "kernelspec": {
   "display_name": "Python 3",
   "language": "python",
   "name": "python3"
  },
  "language_info": {
   "codemirror_mode": {
    "name": "ipython",
    "version": 3
   },
   "file_extension": ".py",
   "mimetype": "text/x-python",
   "name": "python",
   "nbconvert_exporter": "python",
   "pygments_lexer": "ipython3",
   "version": "3.5.3"
  }
 },
 "nbformat": 4,
 "nbformat_minor": 2
}
